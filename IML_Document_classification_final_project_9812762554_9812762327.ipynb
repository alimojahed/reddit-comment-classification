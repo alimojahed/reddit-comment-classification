{
  "cells": [
    {
      "cell_type": "markdown",
      "metadata": {
        "id": "5G0k61iQoQlp"
      },
      "source": [
        "# Introduction to Machine Learning\n",
        "\n",
        "## Final Project\n",
        "\n",
        "## Document Classification\n",
        "\n",
        "### Ali Mojahed - 9812762554\n",
        "### Mahya Ehsanimehr - 9812762327\n"
      ]
    },
    {
      "cell_type": "markdown",
      "metadata": {
        "id": "lCKI3iDJeT0_"
      },
      "source": [
        "# 1. Download Datasets and Prerequisites"
      ]
    },
    {
      "cell_type": "markdown",
      "metadata": {
        "id": "lbGIUry0efLE"
      },
      "source": [
        "## 1.1. Download Datasets"
      ]
    },
    {
      "cell_type": "code",
      "execution_count": null,
      "metadata": {
        "colab": {
          "base_uri": "https://localhost:8080/"
        },
        "id": "VDNXeB80rY_x",
        "outputId": "3d97c097-703f-4b5d-ea5a-b89ea1ffce1c"
      },
      "outputs": [
        {
          "output_type": "stream",
          "name": "stdout",
          "text": [
            "--2022-07-05 06:59:38--  https://www.dropbox.com/s/d4kee6t0e9l8e1r/data.zip?dl=0\n",
            "Resolving www.dropbox.com (www.dropbox.com)... 162.125.1.18, 2620:100:6016:18::a27d:112\n",
            "Connecting to www.dropbox.com (www.dropbox.com)|162.125.1.18|:443... connected.\n",
            "HTTP request sent, awaiting response... 301 Moved Permanently\n",
            "Location: /s/raw/d4kee6t0e9l8e1r/data.zip [following]\n",
            "--2022-07-05 06:59:38--  https://www.dropbox.com/s/raw/d4kee6t0e9l8e1r/data.zip\n",
            "Reusing existing connection to www.dropbox.com:443.\n",
            "HTTP request sent, awaiting response... 302 Found\n",
            "Location: https://uccfc57de5410deefc5c61ab8a0e.dl.dropboxusercontent.com/cd/0/inline/BoeMtGet5zGsgGwLYlQnMBcMjTT0pB0ynYMYPf5Fbbm5BHlmgyAUuCZ6b-y0pAjaP_Cqbtoc5i421g0yQPrqljBU6W3TuRog68UW88_hUgyHx5YZKqRFwHM5ZLRovgAbjdD90_uakckq32TBilSlb7OILmIRVM-D-08qAA8QsbgSjg/file# [following]\n",
            "--2022-07-05 06:59:38--  https://uccfc57de5410deefc5c61ab8a0e.dl.dropboxusercontent.com/cd/0/inline/BoeMtGet5zGsgGwLYlQnMBcMjTT0pB0ynYMYPf5Fbbm5BHlmgyAUuCZ6b-y0pAjaP_Cqbtoc5i421g0yQPrqljBU6W3TuRog68UW88_hUgyHx5YZKqRFwHM5ZLRovgAbjdD90_uakckq32TBilSlb7OILmIRVM-D-08qAA8QsbgSjg/file\n",
            "Resolving uccfc57de5410deefc5c61ab8a0e.dl.dropboxusercontent.com (uccfc57de5410deefc5c61ab8a0e.dl.dropboxusercontent.com)... 162.125.1.15, 2620:100:6016:15::a27d:10f\n",
            "Connecting to uccfc57de5410deefc5c61ab8a0e.dl.dropboxusercontent.com (uccfc57de5410deefc5c61ab8a0e.dl.dropboxusercontent.com)|162.125.1.15|:443... connected.\n",
            "HTTP request sent, awaiting response... 302 Found\n",
            "Location: /cd/0/inline2/BodO7PA-aLMZlvlmX1Qa_Y4dRt33M97u2CvY1QcxCUOc597HjToaOu46rwmUPkBYfNeeknTqHoRYPGCWlJd70dfsFoW9Ta1EYWTBO6VCalomuMhAf_JBkoVcE4uBE-FF6tEu2_vK5Wbj5rNv1432s2-zMxchabSlqkoxUMezelO9kzUxu_wSZXAy5iaumQFW0JWb_G2qfdm_K9VfjD8IZ7Jn0vy5Qv_K37Jj00-lrIo71dOCyxcwIiTV_s9AbI5L3j2bEtS3APA8Tpy8-ZPyfrG1qRPFyJ3RpZeK5WMfgiipQpbkZF6Tx6O2R0wQ3nr57jTpsMYoprI6xZUnz_wqn4WYY8PX15jMnLeHZgmpQd8Ua5v0u1rV4It63lM0CfwvcS85wHTRnz08QntCeoR8gA-j9SRVQc_X45Nnbpshdvct2A/file [following]\n",
            "--2022-07-05 06:59:38--  https://uccfc57de5410deefc5c61ab8a0e.dl.dropboxusercontent.com/cd/0/inline2/BodO7PA-aLMZlvlmX1Qa_Y4dRt33M97u2CvY1QcxCUOc597HjToaOu46rwmUPkBYfNeeknTqHoRYPGCWlJd70dfsFoW9Ta1EYWTBO6VCalomuMhAf_JBkoVcE4uBE-FF6tEu2_vK5Wbj5rNv1432s2-zMxchabSlqkoxUMezelO9kzUxu_wSZXAy5iaumQFW0JWb_G2qfdm_K9VfjD8IZ7Jn0vy5Qv_K37Jj00-lrIo71dOCyxcwIiTV_s9AbI5L3j2bEtS3APA8Tpy8-ZPyfrG1qRPFyJ3RpZeK5WMfgiipQpbkZF6Tx6O2R0wQ3nr57jTpsMYoprI6xZUnz_wqn4WYY8PX15jMnLeHZgmpQd8Ua5v0u1rV4It63lM0CfwvcS85wHTRnz08QntCeoR8gA-j9SRVQc_X45Nnbpshdvct2A/file\n",
            "Reusing existing connection to uccfc57de5410deefc5c61ab8a0e.dl.dropboxusercontent.com:443.\n",
            "HTTP request sent, awaiting response... 200 OK\n",
            "Length: 973130 (950K) [application/zip]\n",
            "Saving to: ‘data.zip’\n",
            "\n",
            "data.zip            100%[===================>] 950.32K  --.-KB/s    in 0.08s   \n",
            "\n",
            "2022-07-05 06:59:41 (12.1 MB/s) - ‘data.zip’ saved [973130/973130]\n",
            "\n",
            "Archive:  data.zip\n",
            "replace /content/data/dataset/test.csv? [y]es, [n]o, [A]ll, [N]one, [r]ename: "
          ]
        }
      ],
      "source": [
        "!wget -O data.zip https://www.dropbox.com/s/d4kee6t0e9l8e1r/data.zip?dl=0\n",
        "!unzip data.zip -d /content/data\n",
        "!mkdir -p /content/model/word2vec/train"
      ]
    },
    {
      "cell_type": "markdown",
      "metadata": {
        "id": "zv5qz5nDetm6"
      },
      "source": [
        "## 1.2. Download glove-wiki-gigaword word vectors"
      ]
    },
    {
      "cell_type": "code",
      "execution_count": null,
      "metadata": {
        "id": "t0LvBeGrJICz",
        "colab": {
          "base_uri": "https://localhost:8080/"
        },
        "outputId": "74c022cd-017d-4a70-d497-26371a8df9b8"
      },
      "outputs": [
        {
          "output_type": "stream",
          "name": "stdout",
          "text": [
            "--2022-07-05 06:59:44--  https://www.dropbox.com/s/0270psualjeh0vy/glove.6B.50d.zip?dl=0\n",
            "Resolving www.dropbox.com (www.dropbox.com)... 162.125.1.18, 2620:100:6016:18::a27d:112\n",
            "Connecting to www.dropbox.com (www.dropbox.com)|162.125.1.18|:443... connected.\n",
            "HTTP request sent, awaiting response... 301 Moved Permanently\n",
            "Location: /s/raw/0270psualjeh0vy/glove.6B.50d.zip [following]\n",
            "--2022-07-05 06:59:44--  https://www.dropbox.com/s/raw/0270psualjeh0vy/glove.6B.50d.zip\n",
            "Reusing existing connection to www.dropbox.com:443.\n",
            "HTTP request sent, awaiting response... 302 Found\n",
            "Location: https://uc04b3e2fc44df958464d0f383d7.dl.dropboxusercontent.com/cd/0/inline/Bofh9K1C4TdlStz96smtoEm-Yimtp04iSjp_kMmUHkdRdBAO4QcCWjTle5O7NyExKuPMSUqr848ju4LAHXAf7iSltjcCJi7nUPaBxRFTIIybE5eDKwO0v7xDRgyrZ8W_hCfBiZ4F5blpvjN9Kzh3znb36LRfE-FKyoA71An8-GUeXQ/file# [following]\n",
            "--2022-07-05 06:59:45--  https://uc04b3e2fc44df958464d0f383d7.dl.dropboxusercontent.com/cd/0/inline/Bofh9K1C4TdlStz96smtoEm-Yimtp04iSjp_kMmUHkdRdBAO4QcCWjTle5O7NyExKuPMSUqr848ju4LAHXAf7iSltjcCJi7nUPaBxRFTIIybE5eDKwO0v7xDRgyrZ8W_hCfBiZ4F5blpvjN9Kzh3znb36LRfE-FKyoA71An8-GUeXQ/file\n",
            "Resolving uc04b3e2fc44df958464d0f383d7.dl.dropboxusercontent.com (uc04b3e2fc44df958464d0f383d7.dl.dropboxusercontent.com)... 162.125.6.15, 2620:100:6016:15::a27d:10f\n",
            "Connecting to uc04b3e2fc44df958464d0f383d7.dl.dropboxusercontent.com (uc04b3e2fc44df958464d0f383d7.dl.dropboxusercontent.com)|162.125.6.15|:443... connected.\n",
            "HTTP request sent, awaiting response... 302 Found\n",
            "Location: /cd/0/inline2/Bod7KKasq4J_Vb1l1DxyoOP4ibaEKHLJj-g0_PG5QbW_XQFpIVyWwG_zo1vPd8SRMRurX7Y1dcvSqJ2axd_vLAmZOhM_uZ3EWKZR49Vo8h4FdFAm6LSVD0LXrMBHxyN9A6zwYnKRy2BrfMy0oH5vQQtBevXIsScT725vmDcx7Bzm-5_MDxV2RHvfHf4mVCoYT5Joz5mWjGIGKNjRcJowoTcdcLNNgmeKYWq1ssQMpe3muTh0Byozpx_1V9sZ6LbmQaCtd1KcvsaKMURZDzJKxeOK7GUH1bo6BKZu6lOjOZDUPyoaJRz5zxPqMEB1eD-VapThhm2dOjwLBDyfaRPMqS7uwUrXeH-ChieoWAWGAlWqmLv32QDp65pmvAECkClVf68A9x7oAkXejfQFMKScavijW9Q8Et2j6VU2A9DCYWTtIg/file [following]\n",
            "--2022-07-05 06:59:45--  https://uc04b3e2fc44df958464d0f383d7.dl.dropboxusercontent.com/cd/0/inline2/Bod7KKasq4J_Vb1l1DxyoOP4ibaEKHLJj-g0_PG5QbW_XQFpIVyWwG_zo1vPd8SRMRurX7Y1dcvSqJ2axd_vLAmZOhM_uZ3EWKZR49Vo8h4FdFAm6LSVD0LXrMBHxyN9A6zwYnKRy2BrfMy0oH5vQQtBevXIsScT725vmDcx7Bzm-5_MDxV2RHvfHf4mVCoYT5Joz5mWjGIGKNjRcJowoTcdcLNNgmeKYWq1ssQMpe3muTh0Byozpx_1V9sZ6LbmQaCtd1KcvsaKMURZDzJKxeOK7GUH1bo6BKZu6lOjOZDUPyoaJRz5zxPqMEB1eD-VapThhm2dOjwLBDyfaRPMqS7uwUrXeH-ChieoWAWGAlWqmLv32QDp65pmvAECkClVf68A9x7oAkXejfQFMKScavijW9Q8Et2j6VU2A9DCYWTtIg/file\n",
            "Reusing existing connection to uc04b3e2fc44df958464d0f383d7.dl.dropboxusercontent.com:443.\n",
            "HTTP request sent, awaiting response... 200 OK\n",
            "Length: 69919231 (67M) [application/zip]\n",
            "Saving to: ‘glove_6B_50d_txt.zip’\n",
            "\n",
            "glove_6B_50d_txt.zi 100%[===================>]  66.68M  26.8MB/s    in 2.5s    \n",
            "\n",
            "2022-07-05 06:59:49 (26.8 MB/s) - ‘glove_6B_50d_txt.zip’ saved [69919231/69919231]\n",
            "\n",
            "Archive:  glove_6B_50d_txt.zip\n",
            "replace /content/glove_6B_50d_txt/glove.6B.50d.txt? [y]es, [n]o, [A]ll, [N]one, [r]ename: "
          ]
        }
      ],
      "source": [
        "!wget -O glove_6B_50d_txt.zip https://www.dropbox.com/s/0270psualjeh0vy/glove.6B.50d.zip?dl=0\n",
        "!unzip glove_6B_50d_txt.zip -d /content/glove_6B_50d_txt\n"
      ]
    },
    {
      "cell_type": "markdown",
      "metadata": {
        "id": "pitTghKbfLPA"
      },
      "source": [
        "## 1.3. Download nltk modules"
      ]
    },
    {
      "cell_type": "code",
      "execution_count": null,
      "metadata": {
        "id": "tVpQeBgWfRq6",
        "colab": {
          "base_uri": "https://localhost:8080/"
        },
        "outputId": "4f899181-6596-4624-fa67-0aaa8812d31f"
      },
      "outputs": [
        {
          "output_type": "stream",
          "name": "stderr",
          "text": [
            "[nltk_data] Downloading package stopwords to /root/nltk_data...\n",
            "[nltk_data]   Package stopwords is already up-to-date!\n",
            "[nltk_data] Downloading package wordnet to /root/nltk_data...\n",
            "[nltk_data]   Package wordnet is already up-to-date!\n",
            "[nltk_data] Downloading package omw-1.4 to /root/nltk_data...\n",
            "[nltk_data]   Package omw-1.4 is already up-to-date!\n"
          ]
        },
        {
          "output_type": "execute_result",
          "data": {
            "text/plain": [
              "True"
            ]
          },
          "metadata": {},
          "execution_count": 3
        }
      ],
      "source": [
        "import nltk\n",
        "nltk.download('stopwords')\n",
        "nltk.download('wordnet')\n",
        "nltk.download('omw-1.4')\n"
      ]
    },
    {
      "cell_type": "markdown",
      "metadata": {
        "id": "0IBgQOIIfkxI"
      },
      "source": [
        "# 2. Importing Common Libraries"
      ]
    },
    {
      "cell_type": "code",
      "execution_count": null,
      "metadata": {
        "id": "CYC-5HGQoq1t"
      },
      "outputs": [],
      "source": [
        "import numpy as np\n",
        "import matplotlib.pyplot as plt\n",
        "import pandas as pd\n",
        "import re\n",
        "import string\n",
        "import nltk\n",
        "from nltk.stem import WordNetLemmatizer\n",
        "import gensim\n",
        "from gensim.models import Word2Vec\n",
        "from gensim.models import KeyedVectors\n",
        "import gensim.downloader"
      ]
    },
    {
      "cell_type": "markdown",
      "metadata": {
        "id": "4faGG-9of9KK"
      },
      "source": [
        "# 3. Read Train and Test Datasets"
      ]
    },
    {
      "cell_type": "code",
      "execution_count": null,
      "metadata": {
        "id": "TSkIS-MoscvA"
      },
      "outputs": [],
      "source": [
        "train_data = pd.read_csv('/content/data/dataset/train.csv')\n",
        "test_data = pd.read_csv('/content/data/dataset/test.csv')"
      ]
    },
    {
      "cell_type": "code",
      "execution_count": null,
      "metadata": {
        "id": "CDTyhe7F_0Dz"
      },
      "outputs": [],
      "source": [
        "result_accuracy = []\n",
        "result_accuracy_label = []\n",
        "WV_SIZE = 50\n",
        "OUTPUT_FOLDER = '/content/model/word2vec/train/'\n",
        "word2vec_filename = OUTPUT_FOLDER + 'train_review_word2vec.csv'"
      ]
    },
    {
      "cell_type": "markdown",
      "metadata": {
        "id": "uL5_XCOlriE5"
      },
      "source": [
        "# 4. Preprocessing"
      ]
    },
    {
      "cell_type": "code",
      "execution_count": null,
      "metadata": {
        "id": "TWDiTqvFgFJd"
      },
      "outputs": [],
      "source": [
        "extra_punct = [\n",
        "    ',', '.', '\"', ':', ')', '(', '!', '?', '|', ';', \"'\", '$', '&',\n",
        "    '/', '[', ']', '>', '%', '=', '#', '*', '+', '\\\\', '•',  '~', '@', '£',\n",
        "    '·', '_', '{', '}', '©', '^', '®', '`',  '<', '→', '°', '€', '™', '›',\n",
        "    '♥', '←', '×', '§', '″', '′', 'Â', '█', '½', 'à', '…', '“', '★', '”',\n",
        "    '–', '●', 'â', '►', '−', '¢', '²', '¬', '░', '¶', '↑', '±', '¿', '▾',\n",
        "    '═', '¦', '║', '―', '¥', '▓', '—', '‹', '─', '▒', '：', '¼', '⊕', '▼',\n",
        "    '▪', '†', '■', '’', '▀', '¨', '▄', '♫', '☆', 'é', '¯', '♦', '¤', '▲',\n",
        "    'è', '¸', '¾', 'Ã', '⋅', '‘', '∞', '∙', '）', '↓', '、', '│', '（', '»',\n",
        "    '，', '♪', '╩', '╚', '³', '・', '╦', '╣', '╔', '╗', '▬', '❤', 'ï', 'Ø',\n",
        "    '¹', '≤', '‡', '√', '«', '»', '´', 'º', '¾', '¡', '§', '£', '₤']"
      ]
    },
    {
      "cell_type": "code",
      "execution_count": null,
      "metadata": {
        "id": "AQ_W2pAmgIwS"
      },
      "outputs": [],
      "source": [
        "class Preprocessor():\n",
        "  def __init__(self):\n",
        "    self.stopwords = nltk.corpus.stopwords.words('english')\n",
        "    self.wordnet_lemmatizer = WordNetLemmatizer()\n",
        "\n",
        "\n",
        "  def remove_extra_space(self, text):\n",
        "    text = text.replace('\\\\t', ' ')\n",
        "    text = text.replace('\\\\n', ' ')\n",
        "    return text\n",
        "\n",
        "  def remove_url(self, text):\n",
        "    return re.sub(r\"http\\S+\", \" \", text)\n",
        "\n",
        "  def remove_punctuation(self, text):\n",
        "    punctuationfree = \"\"\n",
        "    for i in text:\n",
        "      if i in string.punctuation or i in extra_punct:\n",
        "        punctuationfree += \" \"\n",
        "      else:\n",
        "        punctuationfree += i\n",
        "    return punctuationfree\n",
        "\n",
        "  def tokenization(self, text):\n",
        "    text = text.replace('\\t', ' ')\n",
        "    text = text.replace('\\n', ' ')\n",
        "    tokens = text.split(' ')\n",
        "    if '' in tokens:\n",
        "      tokens.remove('')\n",
        "    return tokens\n",
        "\n",
        "  def remove_stopwords(self, text):\n",
        "    output= [i for i in text if i not in self.stopwords]\n",
        "    return output\n",
        "\n",
        "  def lemmatizer(self, text):\n",
        "    lemm_text = [self.wordnet_lemmatizer.lemmatize(word) for word in text]\n",
        "    if '' in lemm_text:\n",
        "      lemm_text = [value for value in lemm_text if value != '']\n",
        "\n",
        "    return lemm_text\n",
        "\n",
        "  def join_sent(self, text):\n",
        "    return \" \".join(text)"
      ]
    },
    {
      "cell_type": "code",
      "execution_count": null,
      "metadata": {
        "id": "N8mntLt4hc3N"
      },
      "outputs": [],
      "source": [
        "def preprocess_documents(data, source_col, target_col):\n",
        "  processor = Preprocessor()\n",
        "  data[source_col + '_extra_space'] = data[source_col].apply(lambda x:processor.remove_extra_space(x))\n",
        "\n",
        "  data[source_col + '_no_url'] = data[source_col + '_extra_space'].apply(lambda x:processor.remove_url(x))\n",
        "\n",
        "  data[source_col + '_no_punc'] = data[source_col + '_no_url'].apply(lambda x:processor.remove_punctuation(x))\n",
        "  data[source_col + '_lower'] = data[source_col + '_no_punc'].apply(lambda x: x.lower())\n",
        "\n",
        "  data[source_col + '_lower'].replace('', np.nan, inplace=True)\n",
        "  data = data.dropna()\n",
        "\n",
        "  data[source_col + '_tokenized'] = data[source_col + '_lower'] .apply(lambda x: processor.tokenization(x))\n",
        "  data[source_col + '_no_stopword'] = data[source_col + '_tokenized'].apply(lambda x: processor.remove_stopwords(x))\n",
        "  data[target_col] = data[source_col + '_no_stopword'].apply(lambda x: processor.lemmatizer(x))\n",
        "  data[source_col + '_clean'] = data[source_col + '_no_stopword'].apply(lambda x: processor.join_sent(x))\n",
        "\n",
        "  return data"
      ]
    },
    {
      "cell_type": "code",
      "execution_count": null,
      "metadata": {
        "id": "FSpwMGw-jkR1"
      },
      "outputs": [],
      "source": [
        "train_data = preprocess_documents(train_data, 'Comment', 'msg_lemmatized')\n",
        "test_data = preprocess_documents(test_data, 'Comment', 'msg_lemmatized')"
      ]
    },
    {
      "cell_type": "code",
      "execution_count": null,
      "metadata": {
        "id": "UhLu7suqsU0B"
      },
      "outputs": [],
      "source": [
        "from sklearn.preprocessing import LabelEncoder\n",
        "label_encoder = LabelEncoder()\n",
        "train_data['topic_labels'] = label_encoder.fit_transform(train_data['Topic'])\n",
        "test_data['topic_labels'] = label_encoder.transform(test_data['Topic'])"
      ]
    },
    {
      "cell_type": "markdown",
      "metadata": {
        "id": "BXFvGyrjjzsd"
      },
      "source": [
        "# 5. Make a Word2Vec Model"
      ]
    },
    {
      "cell_type": "code",
      "execution_count": null,
      "metadata": {
        "id": "kB6pcb5Vj78e"
      },
      "outputs": [],
      "source": [
        "def build_word2vec_from_pretrained(sentences, wv_size, w2v_formant_fn):\n",
        "  model = Word2Vec(size=wv_size, min_count=1)\n",
        "  model.build_vocab(sentences)\n",
        "  total_examples = model.corpus_count\n",
        "\n",
        "  pretrained_w2v = KeyedVectors.load_word2vec_format(w2v_formant_fn, binary=False)\n",
        "  model.build_vocab([list(pretrained_w2v.vocab.keys())], update=True)\n",
        "\n",
        "  model.intersect_word2vec_format(w2v_formant_fn, binary=False, lockf=1.0)\n",
        "  model.train(sentences, total_examples=total_examples, epochs=model.iter)\n",
        "\n",
        "  return model"
      ]
    },
    {
      "cell_type": "code",
      "execution_count": null,
      "metadata": {
        "colab": {
          "base_uri": "https://localhost:8080/"
        },
        "id": "xYnXKnXMlNO8",
        "outputId": "b07c9467-0d94-404d-f8bc-24d95561c9c0"
      },
      "outputs": [
        {
          "output_type": "stream",
          "name": "stderr",
          "text": [
            "/usr/local/lib/python3.7/dist-packages/ipykernel_launcher.py:10: DeprecationWarning: Call to deprecated `iter` (Attribute will be removed in 4.0.0, use self.epochs instead).\n",
            "  # Remove the CWD from sys.path while we load stuff.\n"
          ]
        }
      ],
      "source": [
        "sentences = train_data['msg_lemmatized'].values\n",
        "test_sentences = test_data['msg_lemmatized'].values\n",
        "word2vec_model = build_word2vec_from_pretrained(np.concatenate((sentences, test_sentences), axis=0), 50, \"/content/glove_6B_50d_txt/glove.6B.50d.txt\")"
      ]
    },
    {
      "cell_type": "code",
      "execution_count": null,
      "metadata": {
        "id": "jzfK8u6Cqsbz"
      },
      "outputs": [],
      "source": [
        "def generate_w2v_vector_file(data, target_col, word2vec_filename, w2v_model):\n",
        "  with open(word2vec_filename, 'w') as word2vec_file:\n",
        "      for index, row in data.iterrows():\n",
        "          # print(row['msg_lemmatized'])\n",
        "          model_vector = (np.mean([w2v_model[token] for token in row[target_col]], axis=0)).tolist()\n",
        "          if index == 0:\n",
        "              header = \",\".join(str(ele) for ele in range(WV_SIZE))\n",
        "              word2vec_file.write(header)\n",
        "              word2vec_file.write(\"\\n\")\n",
        "          # Check if the line exists else it is vector of zeros\n",
        "          if type(model_vector) is list:\n",
        "              line1 = \",\".join( [str(vector_element) for vector_element in model_vector] )\n",
        "          else:\n",
        "              line1 = \",\".join([str(0) for i in range(WV_SIZE)])\n",
        "          word2vec_file.write(line1)\n",
        "          word2vec_file.write('\\n')"
      ]
    },
    {
      "cell_type": "code",
      "execution_count": null,
      "metadata": {
        "id": "JkSniKu8ncAy",
        "colab": {
          "base_uri": "https://localhost:8080/"
        },
        "outputId": "815def3a-87ab-44a2-e305-33390d5610ff"
      },
      "outputs": [
        {
          "output_type": "stream",
          "name": "stderr",
          "text": [
            "/usr/local/lib/python3.7/dist-packages/ipykernel_launcher.py:5: DeprecationWarning: Call to deprecated `__getitem__` (Method will be removed in 4.0.0, use self.wv.__getitem__() instead).\n",
            "  \"\"\"\n",
            "/usr/local/lib/python3.7/dist-packages/numpy/core/fromnumeric.py:3441: RuntimeWarning: Mean of empty slice.\n",
            "  out=out, **kwargs)\n",
            "/usr/local/lib/python3.7/dist-packages/numpy/core/_methods.py:189: RuntimeWarning: invalid value encountered in double_scalars\n",
            "  ret = ret.dtype.type(ret / rcount)\n"
          ]
        }
      ],
      "source": [
        "generate_w2v_vector_file(train_data, 'msg_lemmatized', word2vec_filename, word2vec_model)"
      ]
    },
    {
      "cell_type": "markdown",
      "metadata": {
        "id": "RgbfQjto150d"
      },
      "source": [
        "# 6. Classification Only with Word2Vec Embedding"
      ]
    },
    {
      "cell_type": "code",
      "execution_count": null,
      "metadata": {
        "id": "i7e8uFJZqJeP"
      },
      "outputs": [],
      "source": [
        "from sklearn.tree import DecisionTreeClassifier\n",
        "word2vec_df = pd.read_csv(word2vec_filename)\n",
        "dtc_word2vec = DecisionTreeClassifier()\n",
        "dtc_word2vec = dtc_word2vec.fit(word2vec_df, train_data['topic_labels'])"
      ]
    },
    {
      "cell_type": "code",
      "execution_count": null,
      "metadata": {
        "id": "1LkxdlBz2-Y3",
        "colab": {
          "base_uri": "https://localhost:8080/"
        },
        "outputId": "60b9be66-c4fb-4517-ef71-7a8760522e1e"
      },
      "outputs": [
        {
          "output_type": "stream",
          "name": "stderr",
          "text": [
            "/usr/local/lib/python3.7/dist-packages/ipykernel_launcher.py:6: DeprecationWarning: Call to deprecated `__getitem__` (Method will be removed in 4.0.0, use self.wv.__getitem__() instead).\n",
            "  \n"
          ]
        },
        {
          "output_type": "stream",
          "name": "stdout",
          "text": [
            "              precision    recall  f1-score   support\n",
            "\n",
            "           0       0.00      0.00      0.00       614\n",
            "           1       0.32      1.00      0.48       506\n",
            "           2       0.00      0.00      0.00       466\n",
            "\n",
            "    accuracy                           0.32      1586\n",
            "   macro avg       0.11      0.33      0.16      1586\n",
            "weighted avg       0.10      0.32      0.15      1586\n",
            "\n"
          ]
        },
        {
          "output_type": "stream",
          "name": "stderr",
          "text": [
            "/usr/local/lib/python3.7/dist-packages/sklearn/base.py:451: UserWarning: X does not have valid feature names, but DecisionTreeClassifier was fitted with feature names\n",
            "  \"X does not have valid feature names, but\"\n",
            "/usr/local/lib/python3.7/dist-packages/sklearn/metrics/_classification.py:1318: UndefinedMetricWarning: Precision and F-score are ill-defined and being set to 0.0 in labels with no predicted samples. Use `zero_division` parameter to control this behavior.\n",
            "  _warn_prf(average, modifier, msg_start, len(result))\n",
            "/usr/local/lib/python3.7/dist-packages/sklearn/metrics/_classification.py:1318: UndefinedMetricWarning: Precision and F-score are ill-defined and being set to 0.0 in labels with no predicted samples. Use `zero_division` parameter to control this behavior.\n",
            "  _warn_prf(average, modifier, msg_start, len(result))\n",
            "/usr/local/lib/python3.7/dist-packages/sklearn/metrics/_classification.py:1318: UndefinedMetricWarning: Precision and F-score are ill-defined and being set to 0.0 in labels with no predicted samples. Use `zero_division` parameter to control this behavior.\n",
            "  _warn_prf(average, modifier, msg_start, len(result))\n"
          ]
        }
      ],
      "source": [
        "from sklearn.metrics import classification_report\n",
        "from sklearn.metrics import accuracy_score\n",
        "\n",
        "test_features_word2vec = []\n",
        "for index, row in test_data.iterrows():\n",
        "  model_vector = np.mean([word2vec_model[token] for token in row['msg_lemmatized']], axis=0)\n",
        "  if type(model_vector) is list:\n",
        "    test_features_word2vec.append(model_vector)\n",
        "  else:\n",
        "    test_features_word2vec.append(np.array([0 for i in range(WV_SIZE)]))\n",
        "\n",
        "test_predictions_word2vec = dtc_word2vec.predict(test_features_word2vec)\n",
        "print(classification_report(test_data['topic_labels'],test_predictions_word2vec))\n",
        "result_accuracy.append(accuracy_score(test_data['topic_labels'], test_predictions_word2vec))\n",
        "result_accuracy_label.append('only-word2vec-mean')"
      ]
    },
    {
      "cell_type": "markdown",
      "metadata": {
        "id": "nq4pTB4J87Lf"
      },
      "source": [
        "# 7. Classification Only with Bag-of-Words"
      ]
    },
    {
      "cell_type": "code",
      "execution_count": null,
      "metadata": {
        "id": "Dz2y265c7P_4"
      },
      "outputs": [],
      "source": [
        "from sklearn.feature_extraction.text import CountVectorizer\n",
        "from sklearn.multioutput import MultiOutputClassifier\n",
        "from sklearn.naive_bayes import MultinomialNB\n",
        "from sklearn.linear_model import LogisticRegression\n",
        "from sklearn.svm import LinearSVC\n",
        "\n",
        "vect = CountVectorizer(max_features= None)\n",
        "X_train_dtm = vect.fit_transform(train_data['Comment_clean'].values)\n",
        "X_test_dtm = vect.transform(test_data['Comment_clean'].values)"
      ]
    },
    {
      "cell_type": "code",
      "execution_count": null,
      "metadata": {
        "id": "NF9NMkKz_bVW",
        "colab": {
          "base_uri": "https://localhost:8080/"
        },
        "outputId": "62fc25d9-0595-49ab-a271-224a3ce545c9"
      },
      "outputs": [
        {
          "output_type": "stream",
          "name": "stdout",
          "text": [
            "              precision    recall  f1-score   support\n",
            "\n",
            "           0       0.81      0.80      0.81       614\n",
            "           1       0.76      0.76      0.76       506\n",
            "           2       0.78      0.79      0.78       466\n",
            "\n",
            "    accuracy                           0.78      1586\n",
            "   macro avg       0.78      0.78      0.78      1586\n",
            "weighted avg       0.79      0.78      0.79      1586\n",
            "\n"
          ]
        },
        {
          "output_type": "stream",
          "name": "stderr",
          "text": [
            "/usr/local/lib/python3.7/dist-packages/sklearn/svm/_base.py:1208: ConvergenceWarning: Liblinear failed to converge, increase the number of iterations.\n",
            "  ConvergenceWarning,\n"
          ]
        }
      ],
      "source": [
        "from sklearn.svm import LinearSVC\n",
        "\n",
        "svm = LinearSVC().fit(X_train_dtm, train_data['topic_labels'])\n",
        "y_pred = svm.predict(X_test_dtm)\n",
        "print(classification_report(test_data['topic_labels'],y_pred))\n",
        "result_accuracy.append(accuracy_score(test_data['topic_labels'], y_pred))\n",
        "result_accuracy_label.append('only-bag-of-words')"
      ]
    },
    {
      "cell_type": "markdown",
      "metadata": {
        "id": "eQUbKamkEa6a"
      },
      "source": [
        "# 8. Classification with Combined Prediction of two Models"
      ]
    },
    {
      "cell_type": "code",
      "execution_count": null,
      "metadata": {
        "id": "K7uIFkGh6Ie1"
      },
      "outputs": [],
      "source": [
        "from tqdm import tqdm\n",
        "import gc\n",
        "\n",
        "def load_vector_lookup(embeddings_index):\n",
        "\n",
        "    emb_ind = {}\n",
        "    for i, vec in tqdm(enumerate(embeddings_index.wv.vectors)):\n",
        "        emb_ind[embeddings_index.wv.index2word[i]] = vec\n",
        "    del embeddings_index\n",
        "    gc.collect()\n",
        "    return emb_ind"
      ]
    },
    {
      "cell_type": "code",
      "execution_count": null,
      "metadata": {
        "id": "IB1eIHMI8Yi3",
        "colab": {
          "base_uri": "https://localhost:8080/"
        },
        "outputId": "5ea2c5dc-23a5-4c98-8e41-2ec8c813e5b3"
      },
      "outputs": [
        {
          "output_type": "stream",
          "name": "stderr",
          "text": [
            "402299it [00:00, 827532.85it/s]\n"
          ]
        }
      ],
      "source": [
        "vector_lookup  = load_vector_lookup(word2vec_model)\n",
        "null_vector = vector_lookup['the']\n",
        "\n",
        "def make_bov(sentence):\n",
        "  sent_vec = np.zeros((50))\n",
        "  sentence = sentence.split()\n",
        "  sent_length = len(sentence) + 1\n",
        "  for word in sentence:\n",
        "      try:\n",
        "          sent_vec += vector_lookup[word.lower()]\n",
        "      except:\n",
        "          sent_vec += null_vector\n",
        "  sent_vec /= sent_length\n",
        "  return sent_vec"
      ]
    },
    {
      "cell_type": "code",
      "execution_count": null,
      "metadata": {
        "id": "ZyIMfDjnx6K_"
      },
      "outputs": [],
      "source": [
        "class Word2VecDecisionTreeClassifier(DecisionTreeClassifier):\n",
        "  def __init__(\n",
        "      self,\n",
        "      *,\n",
        "      criterion=\"gini\",\n",
        "      splitter=\"best\",\n",
        "      max_depth=None,\n",
        "      min_samples_split=2,\n",
        "      min_samples_leaf=1,\n",
        "      min_weight_fraction_leaf=0.0,\n",
        "      max_features=None,\n",
        "      random_state=None,\n",
        "      max_leaf_nodes=None,\n",
        "      min_impurity_decrease=0.0,\n",
        "      class_weight=None,\n",
        "      ccp_alpha=0.0,\n",
        "  ):\n",
        "    super().__init__(\n",
        "              criterion=criterion,\n",
        "              splitter=splitter,\n",
        "              max_depth=max_depth,\n",
        "              min_samples_split=min_samples_split,\n",
        "              min_samples_leaf=min_samples_leaf,\n",
        "              min_weight_fraction_leaf=min_weight_fraction_leaf,\n",
        "              max_features=max_features,\n",
        "              max_leaf_nodes=max_leaf_nodes,\n",
        "              class_weight=class_weight,\n",
        "              random_state=random_state,\n",
        "              min_impurity_decrease=min_impurity_decrease,\n",
        "              ccp_alpha=ccp_alpha,\n",
        "    )\n",
        "\n",
        "  def fit(self, X, y, sample_weight=None, check_input=True):\n",
        "    # global word2vec_filename\n",
        "    # X = pd.read_csv(word2vec_filename)\n",
        "    global train_data\n",
        "    train_features = np.array([make_bov(sent) for sent in train_data[\"Comment_clean\"].values])\n",
        "    super().fit(train_features, y, sample_weight, check_input)\n",
        "    return self\n",
        "\n",
        "  def predict(self, X, check_input=True):\n",
        "    # global test_features_word2vec\n",
        "    # X = test_features_word2vec\n",
        "    global test_data\n",
        "    test_features = np.array([make_bov(sent) for sent in test_data[\"Comment_clean\"].values])\n",
        "    return super().predict(test_features, check_input)\n",
        "\n",
        "  def predict_proba(self, X):\n",
        "    global test_features_word2vec\n",
        "    X = test_features_word2vec\n",
        "    return super().predict_proba(X)"
      ]
    },
    {
      "cell_type": "code",
      "execution_count": null,
      "metadata": {
        "id": "Anu34EsnzS-L"
      },
      "outputs": [],
      "source": [
        "class BagOfWordSVM(LinearSVC):\n",
        "  def __init__(self,\n",
        "        penalty=\"l2\",\n",
        "        loss=\"squared_hinge\",\n",
        "        *,\n",
        "        dual=True,\n",
        "        tol=1e-4,\n",
        "        C=1.0,\n",
        "        multi_class=\"ovr\",\n",
        "        fit_intercept=True,\n",
        "        intercept_scaling=1,\n",
        "        class_weight=None,\n",
        "        verbose=0,\n",
        "        random_state=None,\n",
        "        max_iter=1000,\n",
        "  ):\n",
        "    super().__init__(\n",
        "        penalty=penalty,\n",
        "          loss=loss,\n",
        "          dual=dual,\n",
        "          tol=tol,\n",
        "          C=C,\n",
        "          multi_class=multi_class,\n",
        "          fit_intercept=fit_intercept,\n",
        "          intercept_scaling=intercept_scaling,\n",
        "          class_weight=class_weight,\n",
        "          verbose=verbose,\n",
        "          random_state=random_state,\n",
        "          max_iter=max_iter\n",
        "    )\n",
        "\n",
        "  def fit(self, X, y, sample_weight=None):\n",
        "    self.vect = CountVectorizer(max_features= 5000)\n",
        "    X = self.vect.fit_transform(X['Comment_clean'].values)\n",
        "    super().fit(X, y, sample_weight)\n",
        "    return self\n",
        "\n",
        "  def predict(self, X):\n",
        "    X = self.vect.transform(X['Comment_clean'].values)\n",
        "    return super().predict(X)\n",
        "\n",
        "  def predict_proba(self, X):\n",
        "    X = self.vect.transform(X['Comment_clean'].values)\n",
        "    return super().predict_proba(X)"
      ]
    },
    {
      "cell_type": "code",
      "execution_count": null,
      "metadata": {
        "id": "tFwCY-6B3yfK"
      },
      "outputs": [],
      "source": [
        "from sklearn.ensemble import VotingClassifier\n",
        "class VottingClassifierWrapper(VotingClassifier):\n",
        "  def __init__(self,\n",
        "        estimators,\n",
        "        *,\n",
        "        voting=\"hard\",\n",
        "        weights=None,\n",
        "        n_jobs=None,\n",
        "        flatten_transform=True,\n",
        "        verbose=False):\n",
        "    super().__init__(\n",
        "        estimators,\n",
        "        voting=voting,\n",
        "        weights=weights,\n",
        "        n_jobs=n_jobs,\n",
        "        flatten_transform=flatten_transform,\n",
        "        verbose=verbose\n",
        "    )\n",
        "\n",
        "  def predict(self, X):\n",
        "    predictions = self._predict(X)\n",
        "    maj = np.apply_along_axis(\n",
        "        lambda x: np.argmax(np.bincount(x, weights=self._weights_not_none)),\n",
        "        axis=1,\n",
        "        arr=predictions,\n",
        "    )\n",
        "    maj = self.le_.inverse_transform(maj)\n",
        "    return maj\n",
        "\n",
        "\n",
        "  def predict_proba(self, X):\n",
        "    avg = np.average(self._collect_probas(X), axis=0, weights=self._weights_not_none)\n",
        "    return avg\n"
      ]
    },
    {
      "cell_type": "code",
      "execution_count": null,
      "metadata": {
        "id": "YpzSwDiRETEi",
        "colab": {
          "base_uri": "https://localhost:8080/"
        },
        "outputId": "a9802856-b006-4f37-8ad4-eeba24865d68"
      },
      "outputs": [
        {
          "output_type": "stream",
          "name": "stderr",
          "text": [
            "/usr/local/lib/python3.7/dist-packages/sklearn/svm/_base.py:1208: ConvergenceWarning: Liblinear failed to converge, increase the number of iterations.\n",
            "  ConvergenceWarning,\n"
          ]
        },
        {
          "output_type": "stream",
          "name": "stdout",
          "text": [
            "              precision    recall  f1-score   support\n",
            "\n",
            "           0       0.69      0.86      0.77       614\n",
            "           1       0.62      0.67      0.64       506\n",
            "           2       0.88      0.51      0.64       466\n",
            "\n",
            "    accuracy                           0.70      1586\n",
            "   macro avg       0.73      0.68      0.69      1586\n",
            "weighted avg       0.72      0.70      0.69      1586\n",
            "\n"
          ]
        }
      ],
      "source": [
        "from sklearn.pipeline import Pipeline\n",
        "\n",
        "est_w2v = Word2VecDecisionTreeClassifier()\n",
        "est_bow = BagOfWordSVM()\n",
        "\n",
        "combined = VottingClassifierWrapper(estimators=[('w2v', est_w2v), ('bow', est_bow)], voting='hard', weights=['1', '1'])\n",
        "combined = combined.fit(train_data, train_data['topic_labels'])\n",
        "\n",
        "y_pred = combined.predict(test_data)\n",
        "print(classification_report(test_data['topic_labels'],y_pred))\n",
        "result_accuracy.append(accuracy_score(test_data['topic_labels'], y_pred))\n",
        "result_accuracy_label.append('combined-w2v-bow')"
      ]
    },
    {
      "cell_type": "markdown",
      "metadata": {
        "id": "oOmKe_-j6KLr"
      },
      "source": [
        "# 9. Bag-of-Vectors (BoV)"
      ]
    },
    {
      "cell_type": "code",
      "execution_count": null,
      "metadata": {
        "id": "VTCt0uQo9Ce2"
      },
      "outputs": [],
      "source": [
        "from sklearn.decomposition import TruncatedSVD\n",
        "tsvd = TruncatedSVD(n_components = 30)\n",
        "\n",
        "train_features = np.array([make_bov(sent) for sent in train_data[\"Comment_clean\"].values])\n",
        "test_features = np.array([make_bov(sent) for sent in test_data[\"Comment_clean\"].values])\n",
        "\n",
        "train_features_svd = tsvd.fit_transform(train_features)\n",
        "test_features_svd = tsvd.transform(test_features)"
      ]
    },
    {
      "cell_type": "code",
      "execution_count": null,
      "metadata": {
        "id": "IlDTgH6x_SRm",
        "colab": {
          "base_uri": "https://localhost:8080/"
        },
        "outputId": "dd49268d-c13a-4afa-95a2-cb6ec00cd011"
      },
      "outputs": [
        {
          "output_type": "stream",
          "name": "stdout",
          "text": [
            "              precision    recall  f1-score   support\n",
            "\n",
            "           0       0.78      0.79      0.79       614\n",
            "           1       0.69      0.75      0.72       506\n",
            "           2       0.81      0.73      0.76       466\n",
            "\n",
            "    accuracy                           0.76      1586\n",
            "   macro avg       0.76      0.76      0.76      1586\n",
            "weighted avg       0.76      0.76      0.76      1586\n",
            "\n"
          ]
        },
        {
          "output_type": "stream",
          "name": "stderr",
          "text": [
            "/usr/local/lib/python3.7/dist-packages/sklearn/svm/_base.py:1208: ConvergenceWarning: Liblinear failed to converge, increase the number of iterations.\n",
            "  ConvergenceWarning,\n"
          ]
        }
      ],
      "source": [
        "from sklearn.svm import LinearSVC\n",
        "\n",
        "svm = LinearSVC().fit(train_features, train_data['topic_labels'])\n",
        "y_pred = svm.predict(test_features)\n",
        "print(classification_report(test_data['topic_labels'],y_pred))\n",
        "result_accuracy.append(accuracy_score(test_data['topic_labels'], y_pred))\n",
        "result_accuracy_label.append('mean_w2v')"
      ]
    },
    {
      "cell_type": "code",
      "execution_count": null,
      "metadata": {
        "id": "hjRipWltAIt-",
        "colab": {
          "base_uri": "https://localhost:8080/"
        },
        "outputId": "350d0b37-7871-4692-9944-f01874c7493d"
      },
      "outputs": [
        {
          "output_type": "stream",
          "name": "stdout",
          "text": [
            "              precision    recall  f1-score   support\n",
            "\n",
            "           0       0.80      0.79      0.80       614\n",
            "           1       0.70      0.73      0.71       506\n",
            "           2       0.77      0.74      0.76       466\n",
            "\n",
            "    accuracy                           0.76      1586\n",
            "   macro avg       0.76      0.75      0.75      1586\n",
            "weighted avg       0.76      0.76      0.76      1586\n",
            "\n"
          ]
        },
        {
          "output_type": "stream",
          "name": "stderr",
          "text": [
            "/usr/local/lib/python3.7/dist-packages/sklearn/svm/_base.py:1208: ConvergenceWarning: Liblinear failed to converge, increase the number of iterations.\n",
            "  ConvergenceWarning,\n"
          ]
        }
      ],
      "source": [
        "from sklearn.svm import LinearSVC\n",
        "\n",
        "svm = LinearSVC().fit(train_features_svd, train_data['topic_labels'])\n",
        "y_pred = svm.predict(test_features_svd)\n",
        "print(classification_report(test_data['topic_labels'],y_pred))\n",
        "result_accuracy.append(accuracy_score(test_data['topic_labels'], y_pred))\n",
        "result_accuracy_label.append('mean-w2v-svd')"
      ]
    },
    {
      "cell_type": "markdown",
      "metadata": {
        "id": "faMK7ifLAWfW"
      },
      "source": [
        "# 10. TF-IDF and BoV"
      ]
    },
    {
      "cell_type": "code",
      "execution_count": null,
      "metadata": {
        "id": "pVy9U2VxCWAi",
        "colab": {
          "base_uri": "https://localhost:8080/"
        },
        "outputId": "47db5b8d-7330-4a7e-cc3c-60f939813dd8"
      },
      "outputs": [
        {
          "output_type": "execute_result",
          "data": {
            "text/plain": [
              "0    things might negative  frequency dependent sel...\n",
              "1    hard believe exist particulars detect anything...\n",
              "2                                                 bees\n",
              "3    medication technician alot drugs liver  probab...\n",
              "4                                  cesium pretty metal\n",
              "Name: Comment_clean, dtype: object"
            ]
          },
          "metadata": {},
          "execution_count": 29
        }
      ],
      "source": [
        "train_data['Comment_clean'].head()"
      ]
    },
    {
      "cell_type": "code",
      "execution_count": null,
      "metadata": {
        "id": "C1LhtUVDAV7e",
        "colab": {
          "base_uri": "https://localhost:8080/"
        },
        "outputId": "9744bcd1-d515-46a0-f069-b9f9a3bc48dd"
      },
      "outputs": [
        {
          "output_type": "stream",
          "name": "stderr",
          "text": [
            "/usr/local/lib/python3.7/dist-packages/sklearn/utils/deprecation.py:87: FutureWarning: Function get_feature_names is deprecated; get_feature_names is deprecated in 1.0 and will be removed in 1.2. Please use get_feature_names_out instead.\n",
            "  warnings.warn(msg, category=FutureWarning)\n"
          ]
        }
      ],
      "source": [
        "from sklearn.feature_extraction.text import TfidfVectorizer\n",
        "tf = TfidfVectorizer(analyzer='word', ngram_range=(1,1))\n",
        "tfidf_matrix =  tf.fit_transform(train_data['Comment_clean'])\n",
        "feature_names = tf.get_feature_names()\n",
        "sentences_tf_idf = []\n",
        "docs = train_data['Comment_clean'].values.shape[0]\n",
        "for doc in range(docs):\n",
        "  feature_index = tfidf_matrix[doc,:].nonzero()[1]\n",
        "  tfidf_scores = zip(feature_index, [tfidf_matrix[doc, x] for x in feature_index])\n",
        "  sentece_tf_idf = dict()\n",
        "  for w, s in [(feature_names[i], s) for (i, s) in tfidf_scores]:\n",
        "    sentece_tf_idf[w] = s\n",
        "  sentences_tf_idf.append(sentece_tf_idf)"
      ]
    },
    {
      "cell_type": "code",
      "execution_count": null,
      "metadata": {
        "id": "e_BckFDFDKYj"
      },
      "outputs": [],
      "source": [
        "def make_bov_tf_idf(sentence, index):\n",
        "  # print(sentence)\n",
        "  # sentence = sentence['Comment_clean'].values[0]\n",
        "  sent_vec = np.zeros((50))\n",
        "  sentence = sentence.split()\n",
        "  tf_idf = sentences_tf_idf[index]\n",
        "  sent_length = len(sentence) + 1\n",
        "  for word in sentence:\n",
        "      try:\n",
        "          sent_vec += vector_lookup[word.lower()] * tf_idf[word.lower()]\n",
        "      except:\n",
        "          sent_vec += null_vector\n",
        "  sent_vec /= sent_length\n",
        "  return sent_vec"
      ]
    },
    {
      "cell_type": "code",
      "execution_count": null,
      "metadata": {
        "id": "yJuZUEFLEw1-"
      },
      "outputs": [],
      "source": [
        "train_feat = np.zeros((train_data.values.shape[0], 50))\n",
        "for index, row in train_data.iterrows():\n",
        "  train_feat[index, :] = make_bov_tf_idf(row['Comment_clean'], index)\n",
        "\n",
        "test_feat = np.zeros((test_data.values.shape[0], 50))\n",
        "for index, row in test_data.iterrows():\n",
        "  test_feat[index, :] = make_bov_tf_idf(row['Comment_clean'], index)"
      ]
    },
    {
      "cell_type": "code",
      "execution_count": null,
      "metadata": {
        "id": "Rz2mF-lGtfZp",
        "colab": {
          "base_uri": "https://localhost:8080/"
        },
        "outputId": "e7e97325-e1b3-4f79-f7f8-4c4eb57c2e00"
      },
      "outputs": [
        {
          "output_type": "stream",
          "name": "stdout",
          "text": [
            "              precision    recall  f1-score   support\n",
            "\n",
            "           0       0.00      0.00      0.00       614\n",
            "           1       0.00      0.00      0.00       506\n",
            "           2       0.29      1.00      0.45       466\n",
            "\n",
            "    accuracy                           0.29      1586\n",
            "   macro avg       0.10      0.33      0.15      1586\n",
            "weighted avg       0.09      0.29      0.13      1586\n",
            "\n"
          ]
        },
        {
          "output_type": "stream",
          "name": "stderr",
          "text": [
            "/usr/local/lib/python3.7/dist-packages/sklearn/svm/_base.py:1208: ConvergenceWarning: Liblinear failed to converge, increase the number of iterations.\n",
            "  ConvergenceWarning,\n",
            "/usr/local/lib/python3.7/dist-packages/sklearn/metrics/_classification.py:1318: UndefinedMetricWarning: Precision and F-score are ill-defined and being set to 0.0 in labels with no predicted samples. Use `zero_division` parameter to control this behavior.\n",
            "  _warn_prf(average, modifier, msg_start, len(result))\n",
            "/usr/local/lib/python3.7/dist-packages/sklearn/metrics/_classification.py:1318: UndefinedMetricWarning: Precision and F-score are ill-defined and being set to 0.0 in labels with no predicted samples. Use `zero_division` parameter to control this behavior.\n",
            "  _warn_prf(average, modifier, msg_start, len(result))\n",
            "/usr/local/lib/python3.7/dist-packages/sklearn/metrics/_classification.py:1318: UndefinedMetricWarning: Precision and F-score are ill-defined and being set to 0.0 in labels with no predicted samples. Use `zero_division` parameter to control this behavior.\n",
            "  _warn_prf(average, modifier, msg_start, len(result))\n"
          ]
        }
      ],
      "source": [
        "from sklearn.svm import LinearSVC\n",
        "\n",
        "svm = LinearSVC().fit(train_feat, train_data['topic_labels'])\n",
        "y_pred = svm.predict(test_feat)\n",
        "print(classification_report(test_data['topic_labels'],y_pred))\n",
        "result_accuracy.append(accuracy_score(test_data['topic_labels'], y_pred))\n",
        "result_accuracy_label.append('combine-tfidf-w2v-mean')"
      ]
    },
    {
      "cell_type": "code",
      "execution_count": null,
      "metadata": {
        "id": "ZZl3QBBct7W-",
        "colab": {
          "base_uri": "https://localhost:8080/"
        },
        "outputId": "c094984e-0b83-4966-d194-796d47ec9aac"
      },
      "outputs": [
        {
          "output_type": "stream",
          "name": "stderr",
          "text": [
            "/usr/local/lib/python3.7/dist-packages/sklearn/utils/deprecation.py:87: FutureWarning: Function get_feature_names is deprecated; get_feature_names is deprecated in 1.0 and will be removed in 1.2. Please use get_feature_names_out instead.\n",
            "  warnings.warn(msg, category=FutureWarning)\n"
          ]
        }
      ],
      "source": [
        "# from sklearn.feature_extraction.text import TfidfVectorizer\n",
        "count = CountVectorizer(max_features=None)\n",
        "\n",
        "count_matrix =  count.fit_transform(train_data['Comment_clean'])\n",
        "feature_names = count.get_feature_names()\n",
        "sentences_count = []\n",
        "docs = train_data['Comment_clean'].values.shape[0]\n",
        "for doc in range(docs):\n",
        "  feature_index = count_matrix[doc,:].nonzero()[1]\n",
        "  count_scores = zip(feature_index, [count_matrix[doc, x] for x in feature_index])\n",
        "  sentece_count = dict()\n",
        "  for w, s in [(feature_names[i], s) for (i, s) in count_scores]:\n",
        "    sentece_count[w] = s\n",
        "  sentences_count.append(sentece_tf_idf)"
      ]
    },
    {
      "cell_type": "code",
      "execution_count": null,
      "metadata": {
        "id": "KmK_MQAwuptJ"
      },
      "outputs": [],
      "source": [
        "def make_bov_count(sentence, index):\n",
        "  # print(sentence)\n",
        "  # sentence = sentence['Comment_clean'].values[0]\n",
        "  sent_vec = np.zeros((50))\n",
        "  sentence = sentence.split()\n",
        "  count = sentences_count[index]\n",
        "  sent_length = len(sentence) + 1\n",
        "  for word in sentence:\n",
        "      try:\n",
        "          sent_vec += vector_lookup[word.lower()] * count[word.lower()] * 100\n",
        "      except:\n",
        "          sent_vec += null_vector\n",
        "  sent_vec /= sent_length\n",
        "  return sent_vec"
      ]
    },
    {
      "cell_type": "code",
      "execution_count": null,
      "metadata": {
        "id": "2X2laoJRu034"
      },
      "outputs": [],
      "source": [
        "train_feat = np.zeros((train_data.values.shape[0], 50))\n",
        "for index, row in train_data.iterrows():\n",
        "  train_feat[index, :] = make_bov_count(row['Comment_clean'], index)\n",
        "\n",
        "test_feat = np.zeros((test_data.values.shape[0], 50))\n",
        "for index, row in test_data.iterrows():\n",
        "  test_feat[index, :] = make_bov_count(row['Comment_clean'], index)"
      ]
    },
    {
      "cell_type": "code",
      "execution_count": null,
      "metadata": {
        "id": "kdOF_UC1vFQs",
        "colab": {
          "base_uri": "https://localhost:8080/"
        },
        "outputId": "7535104a-403e-4e18-9254-de238d8da77a"
      },
      "outputs": [
        {
          "output_type": "stream",
          "name": "stdout",
          "text": [
            "              precision    recall  f1-score   support\n",
            "\n",
            "           0       0.39      1.00      0.56       614\n",
            "           1       0.00      0.00      0.00       506\n",
            "           2       0.00      0.00      0.00       466\n",
            "\n",
            "    accuracy                           0.39      1586\n",
            "   macro avg       0.13      0.33      0.19      1586\n",
            "weighted avg       0.15      0.39      0.22      1586\n",
            "\n"
          ]
        },
        {
          "output_type": "stream",
          "name": "stderr",
          "text": [
            "/usr/local/lib/python3.7/dist-packages/sklearn/svm/_base.py:1208: ConvergenceWarning: Liblinear failed to converge, increase the number of iterations.\n",
            "  ConvergenceWarning,\n",
            "/usr/local/lib/python3.7/dist-packages/sklearn/metrics/_classification.py:1318: UndefinedMetricWarning: Precision and F-score are ill-defined and being set to 0.0 in labels with no predicted samples. Use `zero_division` parameter to control this behavior.\n",
            "  _warn_prf(average, modifier, msg_start, len(result))\n",
            "/usr/local/lib/python3.7/dist-packages/sklearn/metrics/_classification.py:1318: UndefinedMetricWarning: Precision and F-score are ill-defined and being set to 0.0 in labels with no predicted samples. Use `zero_division` parameter to control this behavior.\n",
            "  _warn_prf(average, modifier, msg_start, len(result))\n",
            "/usr/local/lib/python3.7/dist-packages/sklearn/metrics/_classification.py:1318: UndefinedMetricWarning: Precision and F-score are ill-defined and being set to 0.0 in labels with no predicted samples. Use `zero_division` parameter to control this behavior.\n",
            "  _warn_prf(average, modifier, msg_start, len(result))\n"
          ]
        }
      ],
      "source": [
        "from sklearn.svm import LinearSVC\n",
        "\n",
        "svm = LinearSVC().fit(train_feat, train_data['topic_labels'])\n",
        "y_pred = svm.predict(test_feat)\n",
        "print(classification_report(test_data['topic_labels'],y_pred))\n",
        "result_accuracy.append(accuracy_score(test_data['topic_labels'], y_pred))\n",
        "result_accuracy_label.append('combine-frequency-w2v-mean')"
      ]
    },
    {
      "cell_type": "markdown",
      "metadata": {
        "id": "Lrx5z8PKXOt5"
      },
      "source": [
        "# 11. Bag-of-Words Using Clustered Word2Vecs"
      ]
    },
    {
      "cell_type": "code",
      "execution_count": null,
      "metadata": {
        "id": "BEdSP3IOhzyi"
      },
      "outputs": [],
      "source": [
        "def get_w2vs_of_sentence(sentence):\n",
        "  l = []\n",
        "  sent_vec = np.zeros((50))\n",
        "  sentence = sentence.split()\n",
        "  for word in sentence:\n",
        "      try:\n",
        "          l.append(vector_lookup[word.lower()])\n",
        "      except:\n",
        "          l.append(null_vector)\n",
        "\n",
        "  return np.array(l)"
      ]
    },
    {
      "cell_type": "code",
      "execution_count": null,
      "metadata": {
        "id": "28K3qjlCVVnn"
      },
      "outputs": [],
      "source": [
        "from sklearn.cluster import AgglomerativeClustering\n",
        "\n",
        "\n",
        "complete_link = AgglomerativeClustering(linkage='complete')\n",
        "complete_link = complete_link.fit(word2vec_df.iloc[:, 1:].values)\n",
        "\n",
        "\n"
      ]
    },
    {
      "cell_type": "code",
      "source": [
        "fig = plt.figure(figsize = (20, 15))\n",
        "plt.bar(result_accuracy_label,result_accuracy, width = 0.1)\n",
        "plt.show()"
      ],
      "metadata": {
        "colab": {
          "base_uri": "https://localhost:8080/",
          "height": 864
        },
        "id": "k7-LgWq_JjVG",
        "outputId": "3cb7d24d-f3b8-489e-9b68-49fca84ae861"
      },
      "execution_count": null,
      "outputs": [
        {
          "output_type": "display_data",
          "data": {
            "text/plain": [
              "<Figure size 1440x1080 with 1 Axes>"
            ],
            "image/png": "[encoded data removed]"
          },
          "metadata": {
            "needs_background": "light"
          }
        }
      ]
    }
  ],
  "metadata": {
    "colab": {
      "provenance": []
    },
    "kernelspec": {
      "display_name": "Python 3",
      "name": "python3"
    },
    "language_info": {
      "name": "python"
    }
  },
  "nbformat": 4,
  "nbformat_minor": 0
}